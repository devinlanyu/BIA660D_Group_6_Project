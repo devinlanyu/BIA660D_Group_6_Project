{
 "cells": [
  {
   "cell_type": "code",
   "execution_count": 2,
   "metadata": {},
   "outputs": [],
   "source": [
    "import pandas as pd \n",
    "from mpl_toolkits.basemap import Basemap\n",
    "import numpy as np\n",
    "import matplotlib.pyplot as plt\n",
    "import matplotlib \n",
    "from IPython.core.pylabtools import figsize "
   ]
  },
  {
   "cell_type": "code",
   "execution_count": 3,
   "metadata": {},
   "outputs": [],
   "source": [
    "df=pd.read_csv('map_info.csv')"
   ]
  },
  {
   "cell_type": "code",
   "execution_count": 4,
   "metadata": {},
   "outputs": [
    {
     "data": {
      "text/html": [
       "<div>\n",
       "<style scoped>\n",
       "    .dataframe tbody tr th:only-of-type {\n",
       "        vertical-align: middle;\n",
       "    }\n",
       "\n",
       "    .dataframe tbody tr th {\n",
       "        vertical-align: top;\n",
       "    }\n",
       "\n",
       "    .dataframe thead th {\n",
       "        text-align: right;\n",
       "    }\n",
       "</style>\n",
       "<table border=\"1\" class=\"dataframe\">\n",
       "  <thead>\n",
       "    <tr style=\"text-align: right;\">\n",
       "      <th></th>\n",
       "      <th>Unnamed: 0</th>\n",
       "      <th>countries</th>\n",
       "      <th>count</th>\n",
       "      <th>latitude</th>\n",
       "      <th>longitude</th>\n",
       "    </tr>\n",
       "  </thead>\n",
       "  <tbody>\n",
       "    <tr>\n",
       "      <th>0</th>\n",
       "      <td>0</td>\n",
       "      <td>Albania</td>\n",
       "      <td>1</td>\n",
       "      <td>41.153332</td>\n",
       "      <td>20.168331</td>\n",
       "    </tr>\n",
       "    <tr>\n",
       "      <th>1</th>\n",
       "      <td>1</td>\n",
       "      <td>Antigua &amp; Barbuda</td>\n",
       "      <td>1</td>\n",
       "      <td>17.060816</td>\n",
       "      <td>-61.796428</td>\n",
       "    </tr>\n",
       "    <tr>\n",
       "      <th>2</th>\n",
       "      <td>2</td>\n",
       "      <td>Argentina</td>\n",
       "      <td>10</td>\n",
       "      <td>-38.416097</td>\n",
       "      <td>-63.616672</td>\n",
       "    </tr>\n",
       "    <tr>\n",
       "      <th>3</th>\n",
       "      <td>3</td>\n",
       "      <td>Armenia</td>\n",
       "      <td>4</td>\n",
       "      <td>40.069099</td>\n",
       "      <td>45.038189</td>\n",
       "    </tr>\n",
       "    <tr>\n",
       "      <th>4</th>\n",
       "      <td>4</td>\n",
       "      <td>Aruba</td>\n",
       "      <td>2</td>\n",
       "      <td>12.521110</td>\n",
       "      <td>-69.968338</td>\n",
       "    </tr>\n",
       "  </tbody>\n",
       "</table>\n",
       "</div>"
      ],
      "text/plain": [
       "   Unnamed: 0          countries  count   latitude  longitude\n",
       "0           0            Albania      1  41.153332  20.168331\n",
       "1           1  Antigua & Barbuda      1  17.060816 -61.796428\n",
       "2           2          Argentina     10 -38.416097 -63.616672\n",
       "3           3            Armenia      4  40.069099  45.038189\n",
       "4           4              Aruba      2  12.521110 -69.968338"
      ]
     },
     "execution_count": 4,
     "metadata": {},
     "output_type": "execute_result"
    }
   ],
   "source": [
    "df.head()"
   ]
  },
  {
   "cell_type": "code",
   "execution_count": 5,
   "metadata": {},
   "outputs": [],
   "source": [
    "import folium\n",
    "from folium.plugins import HeatMap"
   ]
  },
  {
   "cell_type": "code",
   "execution_count": 6,
   "metadata": {},
   "outputs": [],
   "source": [
    "lat = np.array(df['latitude'][0:len(df)],dtype=float)                     \n",
    "lon = np.array(df['longitude'][0:len(df)],dtype=float)  \n",
    "count = np.array(df['count'][0:len(df)],dtype=float)"
   ]
  },
  {
   "cell_type": "code",
   "execution_count": 7,
   "metadata": {},
   "outputs": [],
   "source": [
    "data = [[lat[i],lon[i],count[i]] for i in range(len(df))]"
   ]
  },
  {
   "cell_type": "code",
   "execution_count": 8,
   "metadata": {},
   "outputs": [
    {
     "data": {
      "text/plain": [
       "<folium.plugins.heat_map.HeatMap at 0x1a864a90ef0>"
      ]
     },
     "execution_count": 8,
     "metadata": {},
     "output_type": "execute_result"
    }
   ],
   "source": [
    "map_osm = folium.Map() \n",
    "HeatMap(data).add_to(map_osm)"
   ]
  },
  {
   "cell_type": "code",
   "execution_count": 9,
   "metadata": {},
   "outputs": [
    {
     "data": {
      "text/html": [
       "<div style=\"width:100%;\"><div style=\"position:relative;width:100%;height:0;padding-bottom:60%;\"><iframe src=\"data:text/html;charset=utf-8;base64,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\" style=\"position:absolute;width:100%;height:100%;left:0;top:0;border:none !important;\" allowfullscreen webkitallowfullscreen mozallowfullscreen></iframe></div></div>"
      ],
      "text/plain": [
       "<folium.folium.Map at 0x1a864a90ba8>"
      ]
     },
     "execution_count": 9,
     "metadata": {},
     "output_type": "execute_result"
    }
   ],
   "source": [
    "map_osm"
   ]
  },
  {
   "cell_type": "code",
   "execution_count": 10,
   "metadata": {},
   "outputs": [],
   "source": [
    "map_osm.save('reviewer_distribution.html')"
   ]
  },
  {
   "cell_type": "code",
   "execution_count": null,
   "metadata": {},
   "outputs": [],
   "source": []
  }
 ],
 "metadata": {
  "kernelspec": {
   "display_name": "Python 3",
   "language": "python",
   "name": "python3"
  },
  "language_info": {
   "codemirror_mode": {
    "name": "ipython",
    "version": 3
   },
   "file_extension": ".py",
   "mimetype": "text/x-python",
   "name": "python",
   "nbconvert_exporter": "python",
   "pygments_lexer": "ipython3",
   "version": "3.6.4"
  }
 },
 "nbformat": 4,
 "nbformat_minor": 2
}
