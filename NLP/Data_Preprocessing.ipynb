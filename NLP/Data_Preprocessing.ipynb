{
 "cells": [
  {
   "cell_type": "markdown",
   "metadata": {},
   "source": [
    "# Importing Libraries"
   ]
  },
  {
   "cell_type": "code",
   "execution_count": 14,
   "metadata": {},
   "outputs": [
    {
     "name": "stdout",
     "output_type": "stream",
     "text": [
      "[nltk_data] Downloading package vader_lexicon to\n",
      "[nltk_data]     C:\\Users\\Nitin\\AppData\\Roaming\\nltk_data...\n",
      "[nltk_data]   Package vader_lexicon is already up-to-date!\n"
     ]
    }
   ],
   "source": [
    "import pandas as pd\n",
    "import nltk\n",
    "nltk.download('vader_lexicon')\n",
    "from nltk.sentiment.vader import SentimentIntensityAnalyzer\n",
    "import datetime\n",
    "import matplotlib.pyplot as plt\n",
    "import spacy\n",
    "nlp= spacy.load('en')\n",
    "from gensim.models.phrases import Phrases, Phraser\n",
    "from spacy.pipeline import Pipe\n",
    "from spacy.tokenizer import Tokenizer\n",
    "tokenizer = Tokenizer(nlp.vocab)\n",
    "#from sense2vec import Sense2VecComponent\n",
    "#s2v = Sense2VecComponent('/path/to/reddit_vectors-1.1.0')\n",
    "#nlp.add_pipe(s2v)"
   ]
  },
  {
   "cell_type": "markdown",
   "metadata": {},
   "source": [
    "# Importing csv data File"
   ]
  },
  {
   "cell_type": "code",
   "execution_count": 15,
   "metadata": {},
   "outputs": [],
   "source": [
    "\"\"\"USING Kaggle Dataset for training the model\n",
    "https://www.kaggle.com/jiashenliu/515k-hotel-reviews-data-in-europe\n",
    "\"\"\"\n",
    "df = pd.read_csv(\"C:/Users/Nitin/Desktop/Desktop FOlder/Study Material/Semester 2/BIA 660/Project work/515k-hotel-reviews-data-in-europe/Hotel_Reviews.csv\")\n",
    "#C:/Users/Nitin/Desktop/Desktop FOlder/Study Material/Semester 2/BIA 660/Project work/515k-hotel-reviews-data-in-europe/df_Hotel_Reviews.csv"
   ]
  },
  {
   "cell_type": "code",
   "execution_count": null,
   "metadata": {},
   "outputs": [],
   "source": []
  },
  {
   "cell_type": "code",
   "execution_count": 16,
   "metadata": {},
   "outputs": [
    {
     "data": {
      "text/plain": [
       "Hotel_Address                                 515738\n",
       "Additional_Number_of_Scoring                  515738\n",
       "Review_Date                                   515738\n",
       "Average_Score                                 515738\n",
       "Hotel_Name                                    515738\n",
       "Reviewer_Nationality                          515738\n",
       "Negative_Review                               515738\n",
       "Review_Total_Negative_Word_Counts             515738\n",
       "Total_Number_of_Reviews                       515738\n",
       "Positive_Review                               515738\n",
       "Review_Total_Positive_Word_Counts             515738\n",
       "Total_Number_of_Reviews_Reviewer_Has_Given    515738\n",
       "Reviewer_Score                                515738\n",
       "Tags                                          515738\n",
       "days_since_review                             515738\n",
       "lat                                           512470\n",
       "lng                                           512470\n",
       "dtype: int64"
      ]
     },
     "execution_count": 16,
     "metadata": {},
     "output_type": "execute_result"
    }
   ],
   "source": [
    "df.count()"
   ]
  },
  {
   "cell_type": "markdown",
   "metadata": {},
   "source": [
    "# Divide data into 2 parts - Lower and upper as per rating"
   ]
  },
  {
   "cell_type": "code",
   "execution_count": 17,
   "metadata": {},
   "outputs": [],
   "source": [
    "train_df_lower = df.drop(df[df.Reviewer_Score > 6].index)"
   ]
  },
  {
   "cell_type": "code",
   "execution_count": 18,
   "metadata": {},
   "outputs": [],
   "source": [
    "train_df_upper = df.drop(df[df.Reviewer_Score < 6].index)"
   ]
  },
  {
   "cell_type": "markdown",
   "metadata": {},
   "source": [
    "# Since the data is skewed towards 10, take a fraction of 'Review_Score' upper dataframe"
   ]
  },
  {
   "cell_type": "code",
   "execution_count": 19,
   "metadata": {},
   "outputs": [],
   "source": [
    "train_df_upper_fraction = train_df_upper.sample(frac = 0.2, random_state = 100)"
   ]
  },
  {
   "cell_type": "markdown",
   "metadata": {},
   "source": [
    "# Merge and form new DF"
   ]
  },
  {
   "cell_type": "code",
   "execution_count": 20,
   "metadata": {},
   "outputs": [],
   "source": [
    "frames = (train_df_lower, train_df_upper_fraction)\n",
    "train_df = pd.concat(frames)"
   ]
  },
  {
   "cell_type": "code",
   "execution_count": 21,
   "metadata": {},
   "outputs": [
    {
     "name": "stdout",
     "output_type": "stream",
     "text": [
      "<class 'pandas.core.frame.DataFrame'>\n",
      "Int64Index: 145406 entries, 0 to 304047\n",
      "Data columns (total 17 columns):\n",
      "Hotel_Address                                 145406 non-null object\n",
      "Additional_Number_of_Scoring                  145406 non-null int64\n",
      "Review_Date                                   145406 non-null object\n",
      "Average_Score                                 145406 non-null float64\n",
      "Hotel_Name                                    145406 non-null object\n",
      "Reviewer_Nationality                          145406 non-null object\n",
      "Negative_Review                               145406 non-null object\n",
      "Review_Total_Negative_Word_Counts             145406 non-null int64\n",
      "Total_Number_of_Reviews                       145406 non-null int64\n",
      "Positive_Review                               145406 non-null object\n",
      "Review_Total_Positive_Word_Counts             145406 non-null int64\n",
      "Total_Number_of_Reviews_Reviewer_Has_Given    145406 non-null int64\n",
      "Reviewer_Score                                145406 non-null float64\n",
      "Tags                                          145406 non-null object\n",
      "days_since_review                             145406 non-null object\n",
      "lat                                           144468 non-null float64\n",
      "lng                                           144468 non-null float64\n",
      "dtypes: float64(4), int64(5), object(8)\n",
      "memory usage: 20.0+ MB\n"
     ]
    }
   ],
   "source": [
    "train_df.info()"
   ]
  },
  {
   "cell_type": "code",
   "execution_count": 22,
   "metadata": {},
   "outputs": [],
   "source": [
    "train = train_df[['Negative_Review', 'Positive_Review', 'Reviewer_Score']]"
   ]
  },
  {
   "cell_type": "code",
   "execution_count": 23,
   "metadata": {},
   "outputs": [
    {
     "name": "stdout",
     "output_type": "stream",
     "text": [
      "<class 'pandas.core.frame.DataFrame'>\n",
      "Int64Index: 145406 entries, 0 to 304047\n",
      "Data columns (total 3 columns):\n",
      "Negative_Review    145406 non-null object\n",
      "Positive_Review    145406 non-null object\n",
      "Reviewer_Score     145406 non-null float64\n",
      "dtypes: float64(1), object(2)\n",
      "memory usage: 4.4+ MB\n"
     ]
    }
   ],
   "source": [
    "train.info()"
   ]
  },
  {
   "cell_type": "code",
   "execution_count": null,
   "metadata": {},
   "outputs": [],
   "source": []
  },
  {
   "cell_type": "code",
   "execution_count": 24,
   "metadata": {},
   "outputs": [],
   "source": [
    "hotel_review = train.to_csv(\"C:/Users/Nitin/Desktop/Desktop FOlder/Study Material/Semester 2/BIA 660/Project work/515k-hotel-reviews-data-in-europe/df_Hotel_Reviews_undersample.csv\")"
   ]
  },
  {
   "cell_type": "markdown",
   "metadata": {},
   "source": [
    "# Lowercase Words"
   ]
  },
  {
   "cell_type": "code",
   "execution_count": 25,
   "metadata": {},
   "outputs": [],
   "source": [
    "from nltk.corpus import stopwords\n",
    "from nltk.tokenize import wordpunct_tokenize, RegexpTokenizer\n",
    "stop = stopwords.words('english')\n",
    "alpha_tokenizer = RegexpTokenizer('[A-Za-z]\\w+')\n",
    "from nltk.stem.wordnet import WordNetLemmatizer\n",
    "lemmer = WordNetLemmatizer()"
   ]
  },
  {
   "cell_type": "code",
   "execution_count": 13,
   "metadata": {},
   "outputs": [],
   "source": [
    "\"\"\"https://www.kaggle.com/defeater/importance-of-a-linguistic-pre-processing\"\"\"\n",
    "def process_sent(words, lemmatize=False, stem=False):\n",
    "    words = words.lower()\n",
    "    tokens = alpha_tokenizer.tokenize(words)\n",
    "    for index, word in enumerate(tokens):\n",
    "        if lemmatize:\n",
    "            tokens[index] = lemmer.lemmatize(word)\n",
    "        elif stem:\n",
    "            tokens[index] = stemmer.stem(word)\n",
    "        else:\n",
    "            tokens[index] = word\n",
    "    return tokens"
   ]
  },
  {
   "cell_type": "code",
   "execution_count": 30,
   "metadata": {},
   "outputs": [],
   "source": [
    "corpus_positive = [process_sent(sent, lemmatize=True, stem=False) for sent in positive]"
   ]
  },
  {
   "cell_type": "code",
   "execution_count": null,
   "metadata": {},
   "outputs": [],
   "source": [
    "corpus_negative = [process_sent(sent, lemmatize=True, stem=False) for sent in negative]"
   ]
  },
  {
   "cell_type": "code",
   "execution_count": null,
   "metadata": {},
   "outputs": [],
   "source": []
  },
  {
   "cell_type": "code",
   "execution_count": null,
   "metadata": {},
   "outputs": [],
   "source": []
  },
  {
   "cell_type": "code",
   "execution_count": 26,
   "metadata": {},
   "outputs": [],
   "source": [
    "train = train.apply(lambda x: x.astype(str).str.lower())"
   ]
  },
  {
   "cell_type": "code",
   "execution_count": 27,
   "metadata": {},
   "outputs": [
    {
     "data": {
      "text/html": [
       "<div>\n",
       "<style scoped>\n",
       "    .dataframe tbody tr th:only-of-type {\n",
       "        vertical-align: middle;\n",
       "    }\n",
       "\n",
       "    .dataframe tbody tr th {\n",
       "        vertical-align: top;\n",
       "    }\n",
       "\n",
       "    .dataframe thead th {\n",
       "        text-align: right;\n",
       "    }\n",
       "</style>\n",
       "<table border=\"1\" class=\"dataframe\">\n",
       "  <thead>\n",
       "    <tr style=\"text-align: right;\">\n",
       "      <th></th>\n",
       "      <th>Negative_Review</th>\n",
       "      <th>Positive_Review</th>\n",
       "      <th>Reviewer_Score</th>\n",
       "    </tr>\n",
       "  </thead>\n",
       "  <tbody>\n",
       "    <tr>\n",
       "      <th>0</th>\n",
       "      <td>i am so angry that i made this post available...</td>\n",
       "      <td>only the park outside of the hotel was beauti...</td>\n",
       "      <td>2.9</td>\n",
       "    </tr>\n",
       "    <tr>\n",
       "      <th>3</th>\n",
       "      <td>my room was dirty and i was afraid to walk ba...</td>\n",
       "      <td>great location in nice surroundings the bar a...</td>\n",
       "      <td>3.8</td>\n",
       "    </tr>\n",
       "    <tr>\n",
       "      <th>6</th>\n",
       "      <td>cleaner did not change our sheet and duvet ev...</td>\n",
       "      <td>the room is spacious and bright the hotel is ...</td>\n",
       "      <td>4.6</td>\n",
       "    </tr>\n",
       "    <tr>\n",
       "      <th>11</th>\n",
       "      <td>6 30 am started big noise workers loading woo...</td>\n",
       "      <td>style location rooms</td>\n",
       "      <td>5.8</td>\n",
       "    </tr>\n",
       "    <tr>\n",
       "      <th>12</th>\n",
       "      <td>the floor in my room was filfy dirty very bas...</td>\n",
       "      <td>comfy bed good location</td>\n",
       "      <td>4.6</td>\n",
       "    </tr>\n",
       "  </tbody>\n",
       "</table>\n",
       "</div>"
      ],
      "text/plain": [
       "                                      Negative_Review  \\\n",
       "0    i am so angry that i made this post available...   \n",
       "3    my room was dirty and i was afraid to walk ba...   \n",
       "6    cleaner did not change our sheet and duvet ev...   \n",
       "11   6 30 am started big noise workers loading woo...   \n",
       "12   the floor in my room was filfy dirty very bas...   \n",
       "\n",
       "                                      Positive_Review Reviewer_Score  \n",
       "0    only the park outside of the hotel was beauti...            2.9  \n",
       "3    great location in nice surroundings the bar a...            3.8  \n",
       "6    the room is spacious and bright the hotel is ...            4.6  \n",
       "11                               style location rooms            5.8  \n",
       "12                           comfy bed good location             4.6  "
      ]
     },
     "execution_count": 27,
     "metadata": {},
     "output_type": "execute_result"
    }
   ],
   "source": [
    "train.head()"
   ]
  },
  {
   "cell_type": "code",
   "execution_count": 28,
   "metadata": {},
   "outputs": [],
   "source": [
    "train['Reviewer_Score'] = round(train['Reviewer_Score'].astype(float))"
   ]
  },
  {
   "cell_type": "code",
   "execution_count": 29,
   "metadata": {},
   "outputs": [
    {
     "data": {
      "text/html": [
       "<div>\n",
       "<style scoped>\n",
       "    .dataframe tbody tr th:only-of-type {\n",
       "        vertical-align: middle;\n",
       "    }\n",
       "\n",
       "    .dataframe tbody tr th {\n",
       "        vertical-align: top;\n",
       "    }\n",
       "\n",
       "    .dataframe thead th {\n",
       "        text-align: right;\n",
       "    }\n",
       "</style>\n",
       "<table border=\"1\" class=\"dataframe\">\n",
       "  <thead>\n",
       "    <tr style=\"text-align: right;\">\n",
       "      <th></th>\n",
       "      <th>Negative_Review</th>\n",
       "      <th>Positive_Review</th>\n",
       "      <th>Reviewer_Score</th>\n",
       "    </tr>\n",
       "  </thead>\n",
       "  <tbody>\n",
       "    <tr>\n",
       "      <th>0</th>\n",
       "      <td>i am so angry that i made this post available...</td>\n",
       "      <td>only the park outside of the hotel was beauti...</td>\n",
       "      <td>3.0</td>\n",
       "    </tr>\n",
       "    <tr>\n",
       "      <th>3</th>\n",
       "      <td>my room was dirty and i was afraid to walk ba...</td>\n",
       "      <td>great location in nice surroundings the bar a...</td>\n",
       "      <td>4.0</td>\n",
       "    </tr>\n",
       "    <tr>\n",
       "      <th>6</th>\n",
       "      <td>cleaner did not change our sheet and duvet ev...</td>\n",
       "      <td>the room is spacious and bright the hotel is ...</td>\n",
       "      <td>5.0</td>\n",
       "    </tr>\n",
       "    <tr>\n",
       "      <th>11</th>\n",
       "      <td>6 30 am started big noise workers loading woo...</td>\n",
       "      <td>style location rooms</td>\n",
       "      <td>6.0</td>\n",
       "    </tr>\n",
       "    <tr>\n",
       "      <th>12</th>\n",
       "      <td>the floor in my room was filfy dirty very bas...</td>\n",
       "      <td>comfy bed good location</td>\n",
       "      <td>5.0</td>\n",
       "    </tr>\n",
       "  </tbody>\n",
       "</table>\n",
       "</div>"
      ],
      "text/plain": [
       "                                      Negative_Review  \\\n",
       "0    i am so angry that i made this post available...   \n",
       "3    my room was dirty and i was afraid to walk ba...   \n",
       "6    cleaner did not change our sheet and duvet ev...   \n",
       "11   6 30 am started big noise workers loading woo...   \n",
       "12   the floor in my room was filfy dirty very bas...   \n",
       "\n",
       "                                      Positive_Review  Reviewer_Score  \n",
       "0    only the park outside of the hotel was beauti...             3.0  \n",
       "3    great location in nice surroundings the bar a...             4.0  \n",
       "6    the room is spacious and bright the hotel is ...             5.0  \n",
       "11                               style location rooms             6.0  \n",
       "12                           comfy bed good location              5.0  "
      ]
     },
     "execution_count": 29,
     "metadata": {},
     "output_type": "execute_result"
    }
   ],
   "source": [
    "train.head()"
   ]
  },
  {
   "cell_type": "code",
   "execution_count": 30,
   "metadata": {},
   "outputs": [
    {
     "name": "stdout",
     "output_type": "stream",
     "text": [
      "count    145406.000000\n",
      "mean          7.391476\n",
      "std           2.267350\n",
      "min           2.000000\n",
      "25%           5.000000\n",
      "50%           8.000000\n",
      "75%          10.000000\n",
      "max          10.000000\n",
      "Name: Reviewer_Score, dtype: float64\n"
     ]
    },
    {
     "data": {
      "image/png": "[encoded data removed]",
      "text/plain": [
       "<Figure size 432x288 with 1 Axes>"
      ]
     },
     "metadata": {},
     "output_type": "display_data"
    }
   ],
   "source": [
    "import numpy as np\n",
    "import matplotlib.mlab as mlab\n",
    "import matplotlib.pyplot as plt\n",
    "print(train.Reviewer_Score.describe())\n",
    "plt.hist( train.Reviewer_Score, range=[5, 10], facecolor='green')#, align='mid')\n",
    "plt.show()"
   ]
  },
  {
   "cell_type": "code",
   "execution_count": 31,
   "metadata": {},
   "outputs": [
    {
     "name": "stdout",
     "output_type": "stream",
     "text": [
      "Wall time: 1.23 s\n"
     ]
    }
   ],
   "source": [
    "%%time\n",
    "negative = train['Negative_Review'].str.replace('[^\\w\\s]',' ')\n",
    "positive = train['Positive_Review'].str.replace('[^\\w\\s]',' ')"
   ]
  },
  {
   "cell_type": "code",
   "execution_count": 32,
   "metadata": {},
   "outputs": [
    {
     "data": {
      "text/html": [
       "<div>\n",
       "<style scoped>\n",
       "    .dataframe tbody tr th:only-of-type {\n",
       "        vertical-align: middle;\n",
       "    }\n",
       "\n",
       "    .dataframe tbody tr th {\n",
       "        vertical-align: top;\n",
       "    }\n",
       "\n",
       "    .dataframe thead th {\n",
       "        text-align: right;\n",
       "    }\n",
       "</style>\n",
       "<table border=\"1\" class=\"dataframe\">\n",
       "  <thead>\n",
       "    <tr style=\"text-align: right;\">\n",
       "      <th></th>\n",
       "      <th>Negative_Review</th>\n",
       "      <th>Positive_Review</th>\n",
       "      <th>Reviewer_Score</th>\n",
       "    </tr>\n",
       "  </thead>\n",
       "  <tbody>\n",
       "    <tr>\n",
       "      <th>0</th>\n",
       "      <td>i am so angry that i made this post available...</td>\n",
       "      <td>only the park outside of the hotel was beauti...</td>\n",
       "      <td>3.0</td>\n",
       "    </tr>\n",
       "    <tr>\n",
       "      <th>3</th>\n",
       "      <td>my room was dirty and i was afraid to walk ba...</td>\n",
       "      <td>great location in nice surroundings the bar a...</td>\n",
       "      <td>4.0</td>\n",
       "    </tr>\n",
       "    <tr>\n",
       "      <th>6</th>\n",
       "      <td>cleaner did not change our sheet and duvet ev...</td>\n",
       "      <td>the room is spacious and bright the hotel is ...</td>\n",
       "      <td>5.0</td>\n",
       "    </tr>\n",
       "    <tr>\n",
       "      <th>11</th>\n",
       "      <td>6 30 am started big noise workers loading woo...</td>\n",
       "      <td>style location rooms</td>\n",
       "      <td>6.0</td>\n",
       "    </tr>\n",
       "    <tr>\n",
       "      <th>12</th>\n",
       "      <td>the floor in my room was filfy dirty very bas...</td>\n",
       "      <td>comfy bed good location</td>\n",
       "      <td>5.0</td>\n",
       "    </tr>\n",
       "  </tbody>\n",
       "</table>\n",
       "</div>"
      ],
      "text/plain": [
       "                                      Negative_Review  \\\n",
       "0    i am so angry that i made this post available...   \n",
       "3    my room was dirty and i was afraid to walk ba...   \n",
       "6    cleaner did not change our sheet and duvet ev...   \n",
       "11   6 30 am started big noise workers loading woo...   \n",
       "12   the floor in my room was filfy dirty very bas...   \n",
       "\n",
       "                                      Positive_Review  Reviewer_Score  \n",
       "0    only the park outside of the hotel was beauti...             3.0  \n",
       "3    great location in nice surroundings the bar a...             4.0  \n",
       "6    the room is spacious and bright the hotel is ...             5.0  \n",
       "11                               style location rooms             6.0  \n",
       "12                           comfy bed good location              5.0  "
      ]
     },
     "execution_count": 32,
     "metadata": {},
     "output_type": "execute_result"
    }
   ],
   "source": [
    "train.head()"
   ]
  },
  {
   "cell_type": "code",
   "execution_count": 33,
   "metadata": {},
   "outputs": [
    {
     "name": "stdout",
     "output_type": "stream",
     "text": [
      " i am so angry that i made this post available via all possible sites i use when planing my trips so no one will make the mistake of booking this place i made my booking via booking com we stayed for 6 nights in this hotel from 11 to 17 july upon arrival we were placed in a small room on the 2nd floor of the hotel it turned out that this was not the room we booked i had specially reserved the 2 level duplex room so that we would have a big windows and high ceilings the room itself was ok if you don t mind the broken window that can not be closed hello rain and a mini fridge that contained some sort of a bio weapon at least i guessed so by the smell of it i intimately asked to change the room and after explaining 2 times that i booked a duplex btw it costs the same as a simple double but got way more volume due to the high ceiling was offered a room but only the next day so i had to check out the next day before 11 o clock in order to get the room i waned to not the best way to begin your holiday so we had to wait till 13 00 in order to check in my new room what a wonderful waist of my time the room 023 i got was just as i wanted to peaceful internal garden view big window we were tired from waiting the room so we placed our belongings and rushed to the city in the evening it turned out that there was a constant noise in the room i guess it was made by vibrating vent tubes or something it was constant and annoying as hell and it did not stop even at 2 am making it hard to fall asleep for me and my wife i have an audio recording that i can not attach here but if you want i can send it via e mail the next day the technician came but was not able to determine the cause of the disturbing sound so i was offered to change the room once again the hotel was fully booked and they had only 1 room left the one that was smaller but seems newer \n"
     ]
    }
   ],
   "source": [
    "#print (negative[0])\n",
    "print (negative[0])"
   ]
  },
  {
   "cell_type": "markdown",
   "metadata": {},
   "source": []
  },
  {
   "cell_type": "code",
   "execution_count": null,
   "metadata": {},
   "outputs": [],
   "source": []
  },
  {
   "cell_type": "code",
   "execution_count": 35,
   "metadata": {},
   "outputs": [],
   "source": [
    "from spacy.lang.en.stop_words import STOP_WORDS\n",
    "stop = set(STOP_WORDS)\n",
    "#print(STOP_WORDS)"
   ]
  },
  {
   "cell_type": "code",
   "execution_count": 36,
   "metadata": {},
   "outputs": [],
   "source": [
    "negative = negative.apply(lambda x: ' '.join([word for word in x.split() if word not in (stop)]))"
   ]
  },
  {
   "cell_type": "code",
   "execution_count": 37,
   "metadata": {},
   "outputs": [],
   "source": [
    "positive = positive.apply(lambda x: ' '.join([word for word in x.split() if word not in (stop)]))"
   ]
  },
  {
   "cell_type": "code",
   "execution_count": 38,
   "metadata": {},
   "outputs": [],
   "source": [
    "def process_sent(words, lemmatize=False, stem=False):\n",
    "    words = words.lower()\n",
    "    tokens = alpha_tokenizer.tokenize(words)\n",
    "    for index, word in enumerate(tokens):\n",
    "        if lemmatize:\n",
    "            tokens[index] = lemmer.lemmatize(word)\n",
    "        elif stem:\n",
    "            tokens[index] = stemmer.stem(word)\n",
    "        else:\n",
    "            tokens[index] = word\n",
    "    return tokens"
   ]
  },
  {
   "cell_type": "code",
   "execution_count": null,
   "metadata": {},
   "outputs": [],
   "source": []
  },
  {
   "cell_type": "code",
   "execution_count": 39,
   "metadata": {},
   "outputs": [],
   "source": [
    "corpus_positive = [process_sent(sent, lemmatize=True, stem=False) for sent in positive]"
   ]
  },
  {
   "cell_type": "code",
   "execution_count": 40,
   "metadata": {},
   "outputs": [],
   "source": [
    "corpus_negative = [process_sent(sent, lemmatize=True, stem=False) for sent in negative]"
   ]
  },
  {
   "cell_type": "code",
   "execution_count": 41,
   "metadata": {},
   "outputs": [
    {
     "data": {
      "text/plain": [
       "list"
      ]
     },
     "execution_count": 41,
     "metadata": {},
     "output_type": "execute_result"
    }
   ],
   "source": [
    "type(corpus_negative)"
   ]
  },
  {
   "cell_type": "code",
   "execution_count": 43,
   "metadata": {},
   "outputs": [
    {
     "data": {
      "text/plain": [
       "['angry',\n",
       " 'post',\n",
       " 'available',\n",
       " 'possible',\n",
       " 'site',\n",
       " 'use',\n",
       " 'planing',\n",
       " 'trip',\n",
       " 'mistake',\n",
       " 'booking',\n",
       " 'place',\n",
       " 'booking',\n",
       " 'booking',\n",
       " 'com',\n",
       " 'stayed',\n",
       " 'night',\n",
       " 'hotel',\n",
       " 'july',\n",
       " 'arrival',\n",
       " 'placed',\n",
       " 'small',\n",
       " 'room',\n",
       " 'nd',\n",
       " 'floor',\n",
       " 'hotel',\n",
       " 'turned',\n",
       " 'room',\n",
       " 'booked',\n",
       " 'specially',\n",
       " 'reserved',\n",
       " 'level',\n",
       " 'duplex',\n",
       " 'room',\n",
       " 'big',\n",
       " 'window',\n",
       " 'high',\n",
       " 'ceiling',\n",
       " 'room',\n",
       " 'ok',\n",
       " 'don',\n",
       " 'mind',\n",
       " 'broken',\n",
       " 'window',\n",
       " 'closed',\n",
       " 'hello',\n",
       " 'rain',\n",
       " 'mini',\n",
       " 'fridge',\n",
       " 'contained',\n",
       " 'sort',\n",
       " 'bio',\n",
       " 'weapon',\n",
       " 'guessed',\n",
       " 'smell',\n",
       " 'intimately',\n",
       " 'asked',\n",
       " 'change',\n",
       " 'room',\n",
       " 'explaining',\n",
       " 'time',\n",
       " 'booked',\n",
       " 'duplex',\n",
       " 'btw',\n",
       " 'cost',\n",
       " 'simple',\n",
       " 'double',\n",
       " 'got',\n",
       " 'way',\n",
       " 'volume',\n",
       " 'high',\n",
       " 'ceiling',\n",
       " 'offered',\n",
       " 'room',\n",
       " 'day',\n",
       " 'check',\n",
       " 'day',\n",
       " 'clock',\n",
       " 'order',\n",
       " 'room',\n",
       " 'waned',\n",
       " 'best',\n",
       " 'way',\n",
       " 'begin',\n",
       " 'holiday',\n",
       " 'wait',\n",
       " 'till',\n",
       " 'order',\n",
       " 'check',\n",
       " 'new',\n",
       " 'room',\n",
       " 'wonderful',\n",
       " 'waist',\n",
       " 'time',\n",
       " 'room',\n",
       " 'got',\n",
       " 'wanted',\n",
       " 'peaceful',\n",
       " 'internal',\n",
       " 'garden',\n",
       " 'view',\n",
       " 'big',\n",
       " 'window',\n",
       " 'tired',\n",
       " 'waiting',\n",
       " 'room',\n",
       " 'placed',\n",
       " 'belonging',\n",
       " 'rushed',\n",
       " 'city',\n",
       " 'evening',\n",
       " 'turned',\n",
       " 'constant',\n",
       " 'noise',\n",
       " 'room',\n",
       " 'guess',\n",
       " 'vibrating',\n",
       " 'vent',\n",
       " 'tube',\n",
       " 'constant',\n",
       " 'annoying',\n",
       " 'hell',\n",
       " 'stop',\n",
       " 'making',\n",
       " 'hard',\n",
       " 'fall',\n",
       " 'asleep',\n",
       " 'wife',\n",
       " 'audio',\n",
       " 'recording',\n",
       " 'attach',\n",
       " 'want',\n",
       " 'send',\n",
       " 'mail',\n",
       " 'day',\n",
       " 'technician',\n",
       " 'came',\n",
       " 'able',\n",
       " 'determine',\n",
       " 'cause',\n",
       " 'disturbing',\n",
       " 'sound',\n",
       " 'offered',\n",
       " 'change',\n",
       " 'room',\n",
       " 'hotel',\n",
       " 'fully',\n",
       " 'booked',\n",
       " 'room',\n",
       " 'left',\n",
       " 'smaller',\n",
       " 'newer']"
      ]
     },
     "execution_count": 43,
     "metadata": {},
     "output_type": "execute_result"
    }
   ],
   "source": [
    "corpus_negative[0]"
   ]
  },
  {
   "cell_type": "code",
   "execution_count": 23,
   "metadata": {},
   "outputs": [],
   "source": []
  },
  {
   "cell_type": "code",
   "execution_count": 24,
   "metadata": {},
   "outputs": [],
   "source": [
    "#Removing stop words\n",
    "stop = set(STOP_WORDS)\n",
    "#adding stopwords\n",
    "negative = negative.apply(lambda x: ' '.join([word for word in x.split() if word not in (stop)]))"
   ]
  },
  {
   "cell_type": "code",
   "execution_count": 25,
   "metadata": {},
   "outputs": [],
   "source": [
    "positive = positive.apply(lambda x: ' '.join([word for word in x.split() if word not in (stop)]))"
   ]
  },
  {
   "cell_type": "code",
   "execution_count": 25,
   "metadata": {},
   "outputs": [],
   "source": [
    "negative = negative.apply(nltk.word_tokenize)\n",
    "positive = positive.apply(nltk.word_tokenize)\n",
    "from nltk.stem import WordNetLemmatizer\n",
    "wordnet_lemmatizer = WordNetLemmatizer()\n",
    "positive"
   ]
  },
  {
   "cell_type": "code",
   "execution_count": null,
   "metadata": {},
   "outputs": [],
   "source": []
  },
  {
   "cell_type": "code",
   "execution_count": null,
   "metadata": {},
   "outputs": [],
   "source": []
  },
  {
   "cell_type": "code",
   "execution_count": 26,
   "metadata": {},
   "outputs": [],
   "source": [
    "score = train['Reviewer_Score'].astype(int)"
   ]
  },
  {
   "cell_type": "code",
   "execution_count": 27,
   "metadata": {},
   "outputs": [
    {
     "data": {
      "text/plain": [
       "0                       park outside of hotel beautiful\n",
       "3     great location nice surroundings bar restauran...\n",
       "6     room spacious bright hotel located quiet beaut...\n",
       "11                                 style location rooms\n",
       "12                              comfy bed good location\n",
       "Name: Positive_Review, dtype: object"
      ]
     },
     "execution_count": 27,
     "metadata": {},
     "output_type": "execute_result"
    }
   ],
   "source": [
    "data = pd.read_csv(\"C:/Users/Nitin/Desktop/Desktop FOlder/Study Material/Semester 2/BIA 660/Project work/515k-hotel-reviews-data-in-europe/df_Hotel_Reviews_undersample_notags.csv\")#, sep=',',header=None))"
   ]
  },
  {
   "cell_type": "code",
   "execution_count": null,
   "metadata": {},
   "outputs": [],
   "source": [
    "\"\"\"\n",
    "https://stackoverflow.com/questions/15586721/wordnet-lemmatization-and-pos-tagging-in-python?utm_medium=organic&utm_source=google_rich_qa&utm_campaign=google_rich_qa\n",
    "\n",
    "%%time\n",
    "from nltk.corpus import stopwords\n",
    "import nltk, re, string\n",
    "from nltk.stem import WordNetLemmatizer \n",
    "from nltk.corpus import wordnet\n",
    "import numpy as np\n",
    "from sklearn.preprocessing import normalize\n",
    "from spacy.lang.en.stop_words import STOP_WORDS\n",
    "stop = set(STOP_WORDS)\n",
    "\n",
    "\n",
    "\n",
    "docs=data['Positive_Review']\n",
    "#docs=data['Negative_Review']\n",
    "#target=data[3]\n",
    "\n",
    "def get_doc_tokens(doc,lem):\n",
    "        #stop_words = stop\n",
    "        tokens=[token.strip()\n",
    "                for token in nltk.word_tokenize(doc.lower())\n",
    "                if token.strip() not in stop and\n",
    "                token.strip() not in string.punctuation]\n",
    "        \n",
    "        tagged_tokens= nltk.pos_tag(tokens)\n",
    "        \n",
    "        def get_wordnet_pos(pos_tag):\n",
    "    \n",
    "            if pos_tag.startswith('J'):\n",
    "                return wordnet.ADJ\n",
    "\n",
    "            elif pos_tag.startswith('V'):\n",
    "                return wordnet.VERB\n",
    "\n",
    "            elif pos_tag.startswith('N'):\n",
    "                return wordnet.NOUN\n",
    "\n",
    "            elif pos_tag.startswith('R'):\n",
    "                return wordnet.ADV\n",
    "            else:\n",
    "                return wordnet.NOUN\n",
    "        \n",
    "        wordnet_lemmatizer = WordNetLemmatizer()\n",
    "        if lem == True:\n",
    "            negative_lemma=[wordnet_lemmatizer.lemmatize(word, get_wordnet_pos(tag))      \n",
    "            for (word, tag) in tagged_tokens \\\n",
    "            if word not in stop and \\\n",
    "            word not in string.punctuation]\n",
    "        else:\n",
    "            negative_lemma = tokens\n",
    "\n",
    "        return negative_lemma\n",
    "\n",
    "\n",
    "docs_tokens=[get_doc_tokens(doc,True) for doc in docs] \n",
    "\"\"\""
   ]
  },
  {
   "cell_type": "code",
   "execution_count": null,
   "metadata": {},
   "outputs": [],
   "source": [
    "#docs_tokens.to_csv(\"C:/Users/Nitin/Desktop/Desktop FOlder/Study Material/Semester 2/BIA 660/Project work/515k-hotel-reviews-data-in-europe/positive_lemma.csv\")\n",
    "\n",
    "import csv\n",
    "#with open('C:/Users/Nitin/Desktop/Desktop FOlder/Study Material/Semester 2/BIA 660/Project work/515k-hotel-reviews-data-in-europe/positive_lemma.csv', 'wb') as output:\n",
    "with open(\"C:/Users/Nitin/Desktop/Desktop FOlder/Study Material/Semester 2/BIA 660/Project work/515k-hotel-reviews-data-in-europe/positive_lemma1.csv\", \"w\") as output:\n",
    "    writer = csv.writer(output, lineterminator='\\n')\n",
    "    for val in docs_tokens:\n",
    "        writer.writerow([val])  "
   ]
  },
  {
   "cell_type": "code",
   "execution_count": null,
   "metadata": {},
   "outputs": [],
   "source": [
    "positive = pd.read_csv(\"C:/Users/Nitin/Desktop/Desktop FOlder/Study Material/Semester 2/BIA 660/Project work/515k-hotel-reviews-data-in-europe/positive_lemma1.csv\")#, sep=',',header=None))"
   ]
  },
  {
   "cell_type": "code",
   "execution_count": null,
   "metadata": {},
   "outputs": [],
   "source": [
    "negative = pd.read_csv(\"C:/Users/Nitin/Desktop/Desktop FOlder/Study Material/Semester 2/BIA 660/Project work/515k-hotel-reviews-data-in-europe/negative_lemma.csv\")#, sep=',',header=None))"
   ]
  },
  {
   "cell_type": "code",
   "execution_count": null,
   "metadata": {},
   "outputs": [],
   "source": []
  },
  {
   "cell_type": "markdown",
   "metadata": {},
   "source": [
    "# Calculate Negative Sentiments"
   ]
  },
  {
   "cell_type": "code",
   "execution_count": 46,
   "metadata": {},
   "outputs": [],
   "source": [
    "sid = SentimentIntensityAnalyzer()\n",
    "comments = []\n",
    "list_negative=[]\n",
    "for i in negative:\n",
    "    comments.append(i)\n",
    "                                        #print(\"Sentiment Analysis for \" + filename + \":\")\n",
    "for comment in comments:\n",
    "                                            #         print(comment)\n",
    "    ss = sid.polarity_scores(comment)\n",
    "                                                #print(type(ss))\n",
    "    #for k in sorted(ss):                                                   #print('{0}: {1}, '.format(k, ss[k]))\n",
    "    list_negative.append(ss)"
   ]
  },
  {
   "cell_type": "code",
   "execution_count": 47,
   "metadata": {},
   "outputs": [
    {
     "name": "stdout",
     "output_type": "stream",
     "text": [
      "hotel having construction work live tables general cleanliness restaurant 4 star surfaces sticky old food room narrow steep staircase bed difficult come thought\n"
     ]
    },
    {
     "data": {
      "text/plain": [
       "{'compound': -0.4767, 'neg': 0.508, 'neu': 0.492, 'pos': 0.0}"
      ]
     },
     "execution_count": 47,
     "metadata": {},
     "output_type": "execute_result"
    }
   ],
   "source": [
    "print(negative[101])\n",
    "list_negative[101]"
   ]
  },
  {
   "cell_type": "markdown",
   "metadata": {},
   "source": [
    "# Calculate Positive Sentiments"
   ]
  },
  {
   "cell_type": "code",
   "execution_count": 48,
   "metadata": {},
   "outputs": [],
   "source": [
    "comments = []\n",
    "list_positive=[]\n",
    "for i in positive:\n",
    "    comments.append(i)\n",
    "                                        #print(\"Sentiment Analysis for \" + filename + \":\")\n",
    "for comment in comments:\n",
    "    #print(comment)\n",
    "    ss = sid.polarity_scores(comment)\n",
    "                                                #print(type(ss))\n",
    "    #for k in sorted(ss):                                                   #print('{0}: {1}, '.format(k, ss[k]))\n",
    "    list_positive.append(ss)"
   ]
  },
  {
   "cell_type": "code",
   "execution_count": 31,
   "metadata": {},
   "outputs": [
    {
     "data": {
      "text/plain": [
       "0                       park outside of hotel beautiful\n",
       "3     great location nice surroundings bar restauran...\n",
       "6     room spacious bright hotel located quiet beaut...\n",
       "11                                 style location rooms\n",
       "12                              comfy bed good location\n",
       "Name: Positive_Review, dtype: object"
      ]
     },
     "execution_count": 31,
     "metadata": {},
     "output_type": "execute_result"
    }
   ],
   "source": [
    "positive.head()\n",
    "\"\"\"\n",
    "https://www.kaggle.com/defeater/importance-of-a-linguistic-pre-processing\n",
    "\"\"\"\n",
    "\n",
    "def process_sent(words, lemmatize=False, stem=False):\n",
    "    words = words.lower()\n",
    "    tokens = alpha_tokenizer.tokenize(words)\n",
    "    for index, word in enumerate(tokens):\n",
    "        if lemmatize:\n",
    "            tokens[index] = lemmer.lemmatize(word)\n",
    "        elif stem:\n",
    "            tokens[index] = stemmer.stem(word)\n",
    "        else:\n",
    "            tokens[index] = word\n",
    "    return tokens\n",
    "\n",
    "corpus_lemmatized = [process_sent(sent, lemmatize=True, stem=False) for sent in positive]"
   ]
  },
  {
   "cell_type": "code",
   "execution_count": 62,
   "metadata": {},
   "outputs": [
    {
     "data": {
      "text/plain": [
       "145406"
      ]
     },
     "execution_count": 62,
     "metadata": {},
     "output_type": "execute_result"
    }
   ],
   "source": [
    "len(list_positive)"
   ]
  },
  {
   "cell_type": "code",
   "execution_count": null,
   "metadata": {},
   "outputs": [],
   "source": []
  },
  {
   "cell_type": "code",
   "execution_count": 50,
   "metadata": {},
   "outputs": [],
   "source": [
    "j = 0\n",
    "tmp = pd.DataFrame(list_negative[0], index=[0])\n",
    "for i in range(3,len(list_negative)):\n",
    "    if i%4 == 0:p\n",
    "        j += 1\n",
    "        tmp = pd.concat([tmp,pd.DataFrame(list_negative[i],index = [j])])"
   ]
  },
  {
   "cell_type": "code",
   "execution_count": 51,
   "metadata": {},
   "outputs": [],
   "source": [
    "j = 0\n",
    "tmp_p = pd.DataFrame(list_positive[0], index=[0])\n",
    "for i in range(3,len(list_positive)):\n",
    "    if i%4 == 0:\n",
    "        j += 1\n",
    "        tmp_p = pd.concat([tmp_p,pd.DataFrame(list_positive[i],index = [j])])"
   ]
  },
  {
   "cell_type": "code",
   "execution_count": 52,
   "metadata": {},
   "outputs": [],
   "source": [
    "positive.reset_index (drop=True, inplace=True)\n",
    "negative.reset_index (drop=True, inplace=True)"
   ]
  },
  {
   "cell_type": "code",
   "execution_count": 57,
   "metadata": {},
   "outputs": [
    {
     "data": {
      "text/html": [
       "<div>\n",
       "<style scoped>\n",
       "    .dataframe tbody tr th:only-of-type {\n",
       "        vertical-align: middle;\n",
       "    }\n",
       "\n",
       "    .dataframe tbody tr th {\n",
       "        vertical-align: top;\n",
       "    }\n",
       "\n",
       "    .dataframe thead th {\n",
       "        text-align: right;\n",
       "    }\n",
       "</style>\n",
       "<table border=\"1\" class=\"dataframe\">\n",
       "  <thead>\n",
       "    <tr style=\"text-align: right;\">\n",
       "      <th></th>\n",
       "      <th>Negative_Review</th>\n",
       "      <th>compound</th>\n",
       "      <th>neg</th>\n",
       "      <th>neu</th>\n",
       "      <th>pos</th>\n",
       "    </tr>\n",
       "  </thead>\n",
       "  <tbody>\n",
       "    <tr>\n",
       "      <th>145401</th>\n",
       "      <td>small comfortable bathroom</td>\n",
       "      <td>NaN</td>\n",
       "      <td>NaN</td>\n",
       "      <td>NaN</td>\n",
       "      <td>NaN</td>\n",
       "    </tr>\n",
       "    <tr>\n",
       "      <th>145402</th>\n",
       "      <td>works time stayed</td>\n",
       "      <td>NaN</td>\n",
       "      <td>NaN</td>\n",
       "      <td>NaN</td>\n",
       "      <td>NaN</td>\n",
       "    </tr>\n",
       "    <tr>\n",
       "      <th>145403</th>\n",
       "      <td>checking people reception desk computers ackno...</td>\n",
       "      <td>NaN</td>\n",
       "      <td>NaN</td>\n",
       "      <td>NaN</td>\n",
       "      <td>NaN</td>\n",
       "    </tr>\n",
       "    <tr>\n",
       "      <th>145404</th>\n",
       "      <td>negative</td>\n",
       "      <td>NaN</td>\n",
       "      <td>NaN</td>\n",
       "      <td>NaN</td>\n",
       "      <td>NaN</td>\n",
       "    </tr>\n",
       "    <tr>\n",
       "      <th>145405</th>\n",
       "      <td>bar hotel</td>\n",
       "      <td>NaN</td>\n",
       "      <td>NaN</td>\n",
       "      <td>NaN</td>\n",
       "      <td>NaN</td>\n",
       "    </tr>\n",
       "  </tbody>\n",
       "</table>\n",
       "</div>"
      ],
      "text/plain": [
       "                                          Negative_Review  compound  neg  neu  \\\n",
       "145401                         small comfortable bathroom       NaN  NaN  NaN   \n",
       "145402                                  works time stayed       NaN  NaN  NaN   \n",
       "145403  checking people reception desk computers ackno...       NaN  NaN  NaN   \n",
       "145404                                           negative       NaN  NaN  NaN   \n",
       "145405                                          bar hotel       NaN  NaN  NaN   \n",
       "\n",
       "        pos  \n",
       "145401  NaN  \n",
       "145402  NaN  \n",
       "145403  NaN  \n",
       "145404  NaN  \n",
       "145405  NaN  "
      ]
     },
     "execution_count": 57,
     "metadata": {},
     "output_type": "execute_result"
    }
   ],
   "source": [
    "\n",
    "df_negative =pd.concat([negative,tmp],axis=1)\n",
    "df_negative.tail()"
   ]
  },
  {
   "cell_type": "code",
   "execution_count": 54,
   "metadata": {},
   "outputs": [],
   "source": [
    "df_negative.to_csv(\"C:/Users/Nitin/Desktop/Desktop FOlder/Study Material/Semester 2/BIA 660/Project work/515k-hotel-reviews-data-in-europe/negative_sentiment.csv\")"
   ]
  },
  {
   "cell_type": "code",
   "execution_count": 55,
   "metadata": {},
   "outputs": [
    {
     "data": {
      "text/html": [
       "<div>\n",
       "<style scoped>\n",
       "    .dataframe tbody tr th:only-of-type {\n",
       "        vertical-align: middle;\n",
       "    }\n",
       "\n",
       "    .dataframe tbody tr th {\n",
       "        vertical-align: top;\n",
       "    }\n",
       "\n",
       "    .dataframe thead th {\n",
       "        text-align: right;\n",
       "    }\n",
       "</style>\n",
       "<table border=\"1\" class=\"dataframe\">\n",
       "  <thead>\n",
       "    <tr style=\"text-align: right;\">\n",
       "      <th></th>\n",
       "      <th>Positive_Review</th>\n",
       "      <th>compound</th>\n",
       "      <th>neg</th>\n",
       "      <th>neu</th>\n",
       "      <th>pos</th>\n",
       "    </tr>\n",
       "  </thead>\n",
       "  <tbody>\n",
       "    <tr>\n",
       "      <th>0</th>\n",
       "      <td>park outside hotel beautiful</td>\n",
       "      <td>0.5994</td>\n",
       "      <td>0.000</td>\n",
       "      <td>0.435</td>\n",
       "      <td>0.565</td>\n",
       "    </tr>\n",
       "    <tr>\n",
       "      <th>1</th>\n",
       "      <td>great location nice surroundings bar restauran...</td>\n",
       "      <td>0.4404</td>\n",
       "      <td>0.000</td>\n",
       "      <td>0.508</td>\n",
       "      <td>0.492</td>\n",
       "    </tr>\n",
       "    <tr>\n",
       "      <th>2</th>\n",
       "      <td>room spacious bright hotel located quiet beaut...</td>\n",
       "      <td>0.6369</td>\n",
       "      <td>0.000</td>\n",
       "      <td>0.588</td>\n",
       "      <td>0.412</td>\n",
       "    </tr>\n",
       "    <tr>\n",
       "      <th>3</th>\n",
       "      <td>style location rooms</td>\n",
       "      <td>0.5994</td>\n",
       "      <td>0.000</td>\n",
       "      <td>0.204</td>\n",
       "      <td>0.796</td>\n",
       "    </tr>\n",
       "    <tr>\n",
       "      <th>4</th>\n",
       "      <td>comfy bed good location</td>\n",
       "      <td>0.6249</td>\n",
       "      <td>0.124</td>\n",
       "      <td>0.547</td>\n",
       "      <td>0.328</td>\n",
       "    </tr>\n",
       "  </tbody>\n",
       "</table>\n",
       "</div>"
      ],
      "text/plain": [
       "                                     Positive_Review  compound    neg    neu  \\\n",
       "0                       park outside hotel beautiful    0.5994  0.000  0.435   \n",
       "1  great location nice surroundings bar restauran...    0.4404  0.000  0.508   \n",
       "2  room spacious bright hotel located quiet beaut...    0.6369  0.000  0.588   \n",
       "3                               style location rooms    0.5994  0.000  0.204   \n",
       "4                            comfy bed good location    0.6249  0.124  0.547   \n",
       "\n",
       "     pos  \n",
       "0  0.565  \n",
       "1  0.492  \n",
       "2  0.412  \n",
       "3  0.796  \n",
       "4  0.328  "
      ]
     },
     "execution_count": 55,
     "metadata": {},
     "output_type": "execute_result"
    }
   ],
   "source": [
    "df_positive =pd.concat([positive,tmp_p],axis=1)\n",
    "df_positive.head()"
   ]
  },
  {
   "cell_type": "code",
   "execution_count": 56,
   "metadata": {},
   "outputs": [],
   "source": [
    "df_positive.to_csv(\"C:/Users/Nitin/Desktop/Desktop FOlder/Study Material/Semester 2/BIA 660/Project work/515k-hotel-reviews-data-in-europe/positive_sentiment.csv\")"
   ]
  },
  {
   "cell_type": "code",
   "execution_count": null,
   "metadata": {},
   "outputs": [],
   "source": []
  }
 ],
 "metadata": {
  "kernelspec": {
   "display_name": "Python 3",
   "language": "python",
   "name": "python3"
  },
  "language_info": {
   "codemirror_mode": {
    "name": "ipython",
    "version": 3
   },
   "file_extension": ".py",
   "mimetype": "text/x-python",
   "name": "python",
   "nbconvert_exporter": "python",
   "pygments_lexer": "ipython3",
   "version": "3.6.4"
  }
 },
 "nbformat": 4,
 "nbformat_minor": 2
}
