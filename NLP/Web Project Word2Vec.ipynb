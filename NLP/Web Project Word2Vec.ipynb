{
 "cells": [
  {
   "cell_type": "code",
   "execution_count": 1,
   "metadata": {},
   "outputs": [
    {
     "name": "stdout",
     "output_type": "stream",
     "text": [
      "[nltk_data] Downloading package vader_lexicon to\n",
      "[nltk_data]     C:\\Users\\Nitin\\AppData\\Roaming\\nltk_data...\n",
      "[nltk_data]   Package vader_lexicon is already up-to-date!\n"
     ]
    },
    {
     "name": "stderr",
     "output_type": "stream",
     "text": [
      "C:\\Users\\Nitin\\Anaconda3\\lib\\site-packages\\gensim\\utils.py:1197: UserWarning: detected Windows; aliasing chunkize to chunkize_serial\n",
      "  warnings.warn(\"detected Windows; aliasing chunkize to chunkize_serial\")\n"
     ]
    }
   ],
   "source": [
    "import pandas as pd\n",
    "import nltk\n",
    "nltk.download('vader_lexicon')\n",
    "from nltk.sentiment.vader import SentimentIntensityAnalyzer\n",
    "import datetime\n",
    "import matplotlib.pyplot as plt\n",
    "import spacy\n",
    "nlp= spacy.load('en')\n",
    "from gensim.models.phrases import Phrases, Phraser"
   ]
  },
  {
   "cell_type": "code",
   "execution_count": 2,
   "metadata": {},
   "outputs": [],
   "source": [
    "df = pd.read_csv(\"C:/Users/Nitin/Desktop/Desktop FOlder/Study Material/Semester 2/BIA 660/Project work/515k-hotel-reviews-data-in-europe/df_Hotel_Reviews_undersample_notags.csv\")"
   ]
  },
  {
   "cell_type": "code",
   "execution_count": 3,
   "metadata": {},
   "outputs": [
    {
     "data": {
      "text/html": [
       "<div>\n",
       "<style scoped>\n",
       "    .dataframe tbody tr th:only-of-type {\n",
       "        vertical-align: middle;\n",
       "    }\n",
       "\n",
       "    .dataframe tbody tr th {\n",
       "        vertical-align: top;\n",
       "    }\n",
       "\n",
       "    .dataframe thead th {\n",
       "        text-align: right;\n",
       "    }\n",
       "</style>\n",
       "<table border=\"1\" class=\"dataframe\">\n",
       "  <thead>\n",
       "    <tr style=\"text-align: right;\">\n",
       "      <th></th>\n",
       "      <th>Unnamed: 0</th>\n",
       "      <th>Negative_Review</th>\n",
       "      <th>Positive_Review</th>\n",
       "      <th>Reviewer_Score</th>\n",
       "    </tr>\n",
       "  </thead>\n",
       "  <tbody>\n",
       "    <tr>\n",
       "      <th>0</th>\n",
       "      <td>0</td>\n",
       "      <td>I am so angry that i made this post available...</td>\n",
       "      <td>Only the park outside of the hotel was beauti...</td>\n",
       "      <td>2.9</td>\n",
       "    </tr>\n",
       "    <tr>\n",
       "      <th>1</th>\n",
       "      <td>3</td>\n",
       "      <td>My room was dirty and I was afraid to walk ba...</td>\n",
       "      <td>Great location in nice surroundings the bar a...</td>\n",
       "      <td>3.8</td>\n",
       "    </tr>\n",
       "    <tr>\n",
       "      <th>2</th>\n",
       "      <td>6</td>\n",
       "      <td>Cleaner did not change our sheet and duvet ev...</td>\n",
       "      <td>The room is spacious and bright The hotel is ...</td>\n",
       "      <td>4.6</td>\n",
       "    </tr>\n",
       "    <tr>\n",
       "      <th>3</th>\n",
       "      <td>11</td>\n",
       "      <td>6 30 AM started big noise workers loading woo...</td>\n",
       "      <td>Style location rooms</td>\n",
       "      <td>5.8</td>\n",
       "    </tr>\n",
       "    <tr>\n",
       "      <th>4</th>\n",
       "      <td>12</td>\n",
       "      <td>The floor in my room was filfy dirty Very bas...</td>\n",
       "      <td>Comfy bed good location</td>\n",
       "      <td>4.6</td>\n",
       "    </tr>\n",
       "  </tbody>\n",
       "</table>\n",
       "</div>"
      ],
      "text/plain": [
       "   Unnamed: 0                                    Negative_Review  \\\n",
       "0           0   I am so angry that i made this post available...   \n",
       "1           3   My room was dirty and I was afraid to walk ba...   \n",
       "2           6   Cleaner did not change our sheet and duvet ev...   \n",
       "3          11   6 30 AM started big noise workers loading woo...   \n",
       "4          12   The floor in my room was filfy dirty Very bas...   \n",
       "\n",
       "                                     Positive_Review  Reviewer_Score  \n",
       "0   Only the park outside of the hotel was beauti...             2.9  \n",
       "1   Great location in nice surroundings the bar a...             3.8  \n",
       "2   The room is spacious and bright The hotel is ...             4.6  \n",
       "3                               Style location rooms             5.8  \n",
       "4                           Comfy bed good location              4.6  "
      ]
     },
     "execution_count": 3,
     "metadata": {},
     "output_type": "execute_result"
    }
   ],
   "source": [
    "df.head()"
   ]
  },
  {
   "cell_type": "code",
   "execution_count": 4,
   "metadata": {},
   "outputs": [
    {
     "name": "stdout",
     "output_type": "stream",
     "text": [
      "<class 'pandas.core.frame.DataFrame'>\n",
      "RangeIndex: 145406 entries, 0 to 145405\n",
      "Data columns (total 4 columns):\n",
      "Unnamed: 0         145406 non-null int64\n",
      "Negative_Review    145406 non-null object\n",
      "Positive_Review    145406 non-null object\n",
      "Reviewer_Score     145406 non-null float64\n",
      "dtypes: float64(1), int64(1), object(2)\n",
      "memory usage: 4.4+ MB\n"
     ]
    }
   ],
   "source": [
    "#df = df.drop['0']\n",
    "positive = df['Positive_Review']\n",
    "df.info()"
   ]
  },
  {
   "cell_type": "code",
   "execution_count": null,
   "metadata": {},
   "outputs": [],
   "source": []
  },
  {
   "cell_type": "code",
   "execution_count": 5,
   "metadata": {},
   "outputs": [],
   "source": [
    "from spacy.lang.en.stop_words import STOP_WORDS\n",
    "STOP_WORDS.remove(\"not\")\n",
    "STOP_WORDS.remove(\"of\")\n",
    "stop = set(STOP_WORDS)"
   ]
  },
  {
   "cell_type": "code",
   "execution_count": null,
   "metadata": {},
   "outputs": [],
   "source": []
  },
  {
   "cell_type": "code",
   "execution_count": 6,
   "metadata": {},
   "outputs": [],
   "source": [
    "from nltk.stem import WordNetLemmatizer\n",
    "from nltk.tokenize import wordpunct_tokenize, RegexpTokenizer\n",
    "#stop = stopwords.words('english')\n",
    "alpha_tokenizer = RegexpTokenizer('[A-Za-z]\\w+')\n",
    "from nltk.stem.wordnet import WordNetLemmatizer\n",
    "lemmer = WordNetLemmatizer()"
   ]
  },
  {
   "cell_type": "code",
   "execution_count": null,
   "metadata": {},
   "outputs": [],
   "source": []
  },
  {
   "cell_type": "code",
   "execution_count": 7,
   "metadata": {},
   "outputs": [],
   "source": [
    "\"\"\"\n",
    "https://www.kaggle.com/defeater/importance-of-a-linguistic-pre-processing\n",
    "\"\"\"\n",
    "\n",
    "def process_sent(words, lemmatize=False):\n",
    "    words = words.lower()\n",
    "    tokens = alpha_tokenizer.tokenize(words)\n",
    "    for index, word in enumerate(tokens):\n",
    "        if lemmatize:\n",
    "            tokens[index] = lemmer.lemmatize(word)\n",
    "        else:\n",
    "            tokens[index] = word\n",
    "    return tokens"
   ]
  },
  {
   "cell_type": "code",
   "execution_count": 8,
   "metadata": {},
   "outputs": [],
   "source": [
    "corpus_lemmatized = [process_sent(sent, lemmatize=True) for sent in positive]"
   ]
  },
  {
   "cell_type": "code",
   "execution_count": 9,
   "metadata": {},
   "outputs": [
    {
     "name": "stdout",
     "output_type": "stream",
     "text": [
      " For the money I thought the room could ve been a little bit bigger there was barely enough space to walk around the bed the bathroom was great the breakfast buffet was good but I got food poisoning from the room service food late one night The bedroom walls were all dirty and the trim needed a paint job Needs new wallpaper quite badly and the woodwork throughout the whole body of the place is long overdue for a full restoration I read that it was last done in 1972 so it has a bit of a tired feel The location was OK except for trying to get out to a good club but to be fair there was one in the area that just happened to be closed for an event it s colourful there and it was nice to enjoy the park\n"
     ]
    },
    {
     "data": {
      "text/plain": [
       "['for',\n",
       " 'the',\n",
       " 'money',\n",
       " 'thought',\n",
       " 'the',\n",
       " 'room',\n",
       " 'could',\n",
       " 've',\n",
       " 'been',\n",
       " 'little',\n",
       " 'bit',\n",
       " 'bigger',\n",
       " 'there',\n",
       " 'wa',\n",
       " 'barely',\n",
       " 'enough',\n",
       " 'space',\n",
       " 'to',\n",
       " 'walk',\n",
       " 'around',\n",
       " 'the',\n",
       " 'bed',\n",
       " 'the',\n",
       " 'bathroom',\n",
       " 'wa',\n",
       " 'great',\n",
       " 'the',\n",
       " 'breakfast',\n",
       " 'buffet',\n",
       " 'wa',\n",
       " 'good',\n",
       " 'but',\n",
       " 'got',\n",
       " 'food',\n",
       " 'poisoning',\n",
       " 'from',\n",
       " 'the',\n",
       " 'room',\n",
       " 'service',\n",
       " 'food',\n",
       " 'late',\n",
       " 'one',\n",
       " 'night',\n",
       " 'the',\n",
       " 'bedroom',\n",
       " 'wall',\n",
       " 'were',\n",
       " 'all',\n",
       " 'dirty',\n",
       " 'and',\n",
       " 'the',\n",
       " 'trim',\n",
       " 'needed',\n",
       " 'paint',\n",
       " 'job',\n",
       " 'need',\n",
       " 'new',\n",
       " 'wallpaper',\n",
       " 'quite',\n",
       " 'badly',\n",
       " 'and',\n",
       " 'the',\n",
       " 'woodwork',\n",
       " 'throughout',\n",
       " 'the',\n",
       " 'whole',\n",
       " 'body',\n",
       " 'of',\n",
       " 'the',\n",
       " 'place',\n",
       " 'is',\n",
       " 'long',\n",
       " 'overdue',\n",
       " 'for',\n",
       " 'full',\n",
       " 'restoration',\n",
       " 'read',\n",
       " 'that',\n",
       " 'it',\n",
       " 'wa',\n",
       " 'last',\n",
       " 'done',\n",
       " 'in',\n",
       " 'so',\n",
       " 'it',\n",
       " 'ha',\n",
       " 'bit',\n",
       " 'of',\n",
       " 'tired',\n",
       " 'feel',\n",
       " 'the',\n",
       " 'location',\n",
       " 'wa',\n",
       " 'ok',\n",
       " 'except',\n",
       " 'for',\n",
       " 'trying',\n",
       " 'to',\n",
       " 'get',\n",
       " 'out',\n",
       " 'to',\n",
       " 'good',\n",
       " 'club',\n",
       " 'but',\n",
       " 'to',\n",
       " 'be',\n",
       " 'fair',\n",
       " 'there',\n",
       " 'wa',\n",
       " 'one',\n",
       " 'in',\n",
       " 'the',\n",
       " 'area',\n",
       " 'that',\n",
       " 'just',\n",
       " 'happened',\n",
       " 'to',\n",
       " 'be',\n",
       " 'closed',\n",
       " 'for',\n",
       " 'an',\n",
       " 'event',\n",
       " 'it',\n",
       " 'colourful',\n",
       " 'there',\n",
       " 'and',\n",
       " 'it',\n",
       " 'wa',\n",
       " 'nice',\n",
       " 'to',\n",
       " 'enjoy',\n",
       " 'the',\n",
       " 'park']"
      ]
     },
     "execution_count": 9,
     "metadata": {},
     "output_type": "execute_result"
    }
   ],
   "source": [
    "print(positive[1150])\n",
    "corpus_lemmatized[1150]"
   ]
  },
  {
   "cell_type": "code",
   "execution_count": 10,
   "metadata": {},
   "outputs": [],
   "source": [
    "from gensim import models\n",
    "#    import matplotlib.pyplot as plt\n",
    " #   import seaborn\n",
    "model_lemmatized = models.Word2Vec(corpus_lemmatized, min_count=10, \n",
    "                                   size=100, window=10)"
   ]
  },
  {
   "cell_type": "code",
   "execution_count": 11,
   "metadata": {},
   "outputs": [
    {
     "data": {
      "text/plain": [
       "100"
      ]
     },
     "execution_count": 11,
     "metadata": {},
     "output_type": "execute_result"
    }
   ],
   "source": [
    "model_lemmatized.vector_size"
   ]
  },
  {
   "cell_type": "code",
   "execution_count": 13,
   "metadata": {},
   "outputs": [],
   "source": [
    "#negative = df['Negative_Review']\n",
    "#corpus_negative_lemma = [process_sent(sent, lemmatize=True, stem=False) for sent in negative]"
   ]
  },
  {
   "cell_type": "code",
   "execution_count": 44,
   "metadata": {},
   "outputs": [],
   "source": [
    "model_lemmatized_negative = models.Word2Vec(corpus_negative_lemma, min_count=10, \n",
    "                                   size=100, window=10)"
   ]
  },
  {
   "cell_type": "code",
   "execution_count": 12,
   "metadata": {},
   "outputs": [
    {
     "name": "stderr",
     "output_type": "stream",
     "text": [
      "C:\\Users\\Nitin\\Anaconda3\\lib\\site-packages\\ipykernel_launcher.py:1: DeprecationWarning: Call to deprecated `most_similar` (Method will be removed in 4.0.0, use self.wv.most_similar() instead).\n",
      "  \"\"\"Entry point for launching an IPython kernel.\n"
     ]
    },
    {
     "data": {
      "text/plain": [
       "[('property', 0.7784289717674255),\n",
       " ('building', 0.505781888961792),\n",
       " ('place', 0.503329873085022),\n",
       " ('amsterdam', 0.4153239130973816),\n",
       " ('gem', 0.4106227159500122),\n",
       " ('world', 0.40806710720062256),\n",
       " ('paris', 0.39855173230171204),\n",
       " ('part', 0.39121443033218384),\n",
       " ('year', 0.38059332966804504),\n",
       " ('barcelona', 0.37844279408454895)]"
      ]
     },
     "execution_count": 12,
     "metadata": {},
     "output_type": "execute_result"
    }
   ],
   "source": [
    "model_lemmatized.most_similar('hotel')"
   ]
  },
  {
   "cell_type": "code",
   "execution_count": 16,
   "metadata": {},
   "outputs": [
    {
     "name": "stderr",
     "output_type": "stream",
     "text": [
      "C:\\Users\\Nitin\\Anaconda3\\lib\\site-packages\\ipykernel_launcher.py:1: DeprecationWarning: Call to deprecated `most_similar` (Method will be removed in 4.0.0, use self.wv.most_similar() instead).\n",
      "  \"\"\"Entry point for launching an IPython kernel.\n"
     ]
    },
    {
     "data": {
      "text/plain": [
       "[('mattress', 0.6285558938980103),\n",
       " ('pillow', 0.5498571991920471),\n",
       " ('bedroom', 0.541079044342041),\n",
       " ('bedding', 0.5398828387260437),\n",
       " ('roomy', 0.4964498281478882),\n",
       " ('duvet', 0.47308820486068726),\n",
       " ('soooo', 0.47281697392463684),\n",
       " ('airy', 0.44449108839035034),\n",
       " ('bath', 0.44403719902038574),\n",
       " ('product', 0.43852248787879944)]"
      ]
     },
     "execution_count": 16,
     "metadata": {},
     "output_type": "execute_result"
    }
   ],
   "source": [
    "model_lemmatized.most_similar('bed')"
   ]
  },
  {
   "cell_type": "code",
   "execution_count": 18,
   "metadata": {},
   "outputs": [
    {
     "name": "stderr",
     "output_type": "stream",
     "text": [
      "C:\\Users\\Nitin\\Anaconda3\\lib\\site-packages\\ipykernel_launcher.py:1: DeprecationWarning: Call to deprecated `most_similar` (Method will be removed in 4.0.0, use self.wv.most_similar() instead).\n",
      "  \"\"\"Entry point for launching an IPython kernel.\n"
     ]
    },
    {
     "data": {
      "text/plain": [
       "[('bedroom', 0.7555505037307739),\n",
       " ('suite', 0.5650008916854858),\n",
       " ('bathroom', 0.5387576818466187),\n",
       " ('apartment', 0.5368821620941162),\n",
       " ('bath', 0.5030446648597717),\n",
       " ('double', 0.49666836857795715),\n",
       " ('closet', 0.4950892925262451),\n",
       " ('kitchenette', 0.4914790391921997),\n",
       " ('queen', 0.4857444763183594),\n",
       " ('armchair', 0.4849092960357666)]"
      ]
     },
     "execution_count": 18,
     "metadata": {},
     "output_type": "execute_result"
    }
   ],
   "source": [
    "model_lemmatized.most_similar('room')"
   ]
  },
  {
   "cell_type": "code",
   "execution_count": 19,
   "metadata": {},
   "outputs": [
    {
     "name": "stderr",
     "output_type": "stream",
     "text": [
      "C:\\Users\\Nitin\\Anaconda3\\lib\\site-packages\\ipykernel_launcher.py:1: DeprecationWarning: Call to deprecated `most_similar` (Method will be removed in 4.0.0, use self.wv.most_similar() instead).\n",
      "  \"\"\"Entry point for launching an IPython kernel.\n"
     ]
    },
    {
     "data": {
      "text/plain": [
       "[('spotless', 0.5371114611625671),\n",
       " ('ultra', 0.4756438434123993),\n",
       " ('immaculate', 0.458018958568573),\n",
       " ('large', 0.4439012408256531),\n",
       " ('ensuite', 0.44148504734039307),\n",
       " ('airy', 0.43846869468688965),\n",
       " ('stylish', 0.437694251537323),\n",
       " ('roomy', 0.426649272441864),\n",
       " ('cozy', 0.4100782871246338),\n",
       " ('functional', 0.40662604570388794)]"
      ]
     },
     "execution_count": 19,
     "metadata": {},
     "output_type": "execute_result"
    }
   ],
   "source": [
    "model_lemmatized.most_similar('clean')"
   ]
  },
  {
   "cell_type": "code",
   "execution_count": 20,
   "metadata": {},
   "outputs": [
    {
     "name": "stderr",
     "output_type": "stream",
     "text": [
      "C:\\Users\\Nitin\\Anaconda3\\lib\\site-packages\\ipykernel_launcher.py:1: DeprecationWarning: Call to deprecated `most_similar` (Method will be removed in 4.0.0, use self.wv.most_similar() instead).\n",
      "  \"\"\"Entry point for launching an IPython kernel.\n"
     ]
    },
    {
     "data": {
      "text/plain": [
       "[('bicycle', 0.7297616600990295),\n",
       " ('garage', 0.6930373907089233),\n",
       " ('wifi', 0.5918495059013367),\n",
       " ('cable', 0.5597018003463745),\n",
       " ('rental', 0.5594502687454224),\n",
       " ('internet', 0.5575170516967773),\n",
       " ('parked', 0.5505390763282776),\n",
       " ('stress', 0.5502045750617981),\n",
       " ('secure', 0.5343676805496216),\n",
       " ('car', 0.5294924378395081)]"
      ]
     },
     "execution_count": 20,
     "metadata": {},
     "output_type": "execute_result"
    }
   ],
   "source": [
    "model_lemmatized.most_similar('parking')"
   ]
  },
  {
   "cell_type": "code",
   "execution_count": 21,
   "metadata": {},
   "outputs": [
    {
     "name": "stderr",
     "output_type": "stream",
     "text": [
      "C:\\Users\\Nitin\\Anaconda3\\lib\\site-packages\\ipykernel_launcher.py:1: DeprecationWarning: Call to deprecated `most_similar` (Method will be removed in 4.0.0, use self.wv.most_similar() instead).\n",
      "  \"\"\"Entry point for launching an IPython kernel.\n"
     ]
    },
    {
     "data": {
      "text/plain": [
       "[('personnel', 0.6302597522735596),\n",
       " ('stuff', 0.6039326190948486),\n",
       " ('receptionist', 0.6030368208885193),\n",
       " ('informative', 0.5835590958595276),\n",
       " ('employee', 0.5803384780883789),\n",
       " ('exceptionally', 0.5428336262702942),\n",
       " ('team', 0.5249966382980347),\n",
       " ('extremely', 0.510168194770813),\n",
       " ('knowledgeable', 0.5098752975463867),\n",
       " ('concierge', 0.5075443983078003)]"
      ]
     },
     "execution_count": 21,
     "metadata": {},
     "output_type": "execute_result"
    }
   ],
   "source": [
    "model_lemmatized.most_similar('staff')"
   ]
  },
  {
   "cell_type": "code",
   "execution_count": 22,
   "metadata": {},
   "outputs": [
    {
     "name": "stderr",
     "output_type": "stream",
     "text": [
      "C:\\Users\\Nitin\\Anaconda3\\lib\\site-packages\\ipykernel_launcher.py:1: DeprecationWarning: Call to deprecated `most_similar` (Method will be removed in 4.0.0, use self.wv.most_similar() instead).\n",
      "  \"\"\"Entry point for launching an IPython kernel.\n"
     ]
    },
    {
     "data": {
      "text/plain": [
       "[('payment', 0.7419606447219849),\n",
       " ('deposit', 0.7263205051422119),\n",
       " ('refused', 0.720618724822998),\n",
       " ('eventually', 0.7193417549133301),\n",
       " ('com', 0.6980333924293518),\n",
       " ('asking', 0.6975104808807373),\n",
       " ('earlier', 0.6955916881561279),\n",
       " ('emailed', 0.6919905543327332),\n",
       " ('mistake', 0.6911647319793701),\n",
       " ('charged', 0.6777551174163818)]"
      ]
     },
     "execution_count": 22,
     "metadata": {},
     "output_type": "execute_result"
    }
   ],
   "source": [
    "model_lemmatized.most_similar('online')"
   ]
  },
  {
   "cell_type": "code",
   "execution_count": null,
   "metadata": {},
   "outputs": [],
   "source": []
  },
  {
   "cell_type": "code",
   "execution_count": null,
   "metadata": {},
   "outputs": [],
   "source": []
  },
  {
   "cell_type": "code",
   "execution_count": null,
   "metadata": {},
   "outputs": [],
   "source": []
  },
  {
   "cell_type": "code",
   "execution_count": 53,
   "metadata": {},
   "outputs": [],
   "source": [
    "from gensim.models import doc2vec\n",
    "from collections import namedtuple"
   ]
  },
  {
   "cell_type": "code",
   "execution_count": 59,
   "metadata": {},
   "outputs": [
    {
     "data": {
      "text/plain": [
       "list"
      ]
     },
     "execution_count": 59,
     "metadata": {},
     "output_type": "execute_result"
    }
   ],
   "source": [
    "type(corpus_negative_lemma)"
   ]
  },
  {
   "cell_type": "code",
   "execution_count": 65,
   "metadata": {},
   "outputs": [],
   "source": [
    "#model_negative_doc = doc2vec.Doc2Vec([corpus_negative_lemma], size=1, window=1, min_count=5, workers=4)"
   ]
  },
  {
   "cell_type": "code",
   "execution_count": 66,
   "metadata": {},
   "outputs": [
    {
     "data": {
      "text/plain": [
       "'model = Doc2Vec(alpha=0.025, min_alpha=0.025)  # use fixed learning rate\\nmodel.build_vocab(positive)\\nfor epoch in range(0, 145405)\\n    model.train(positive)\\n    model.alpha -= 0.002  # decrease the learning rate\\n    model.min_alpha = model.alpha  # fix the learning rate, no decay'"
      ]
     },
     "execution_count": 66,
     "metadata": {},
     "output_type": "execute_result"
    }
   ],
   "source": [
    "\"\"\"model = Doc2Vec(alpha=0.025, min_alpha=0.025)  # use fixed learning rate\n",
    "model.build_vocab(positive)\n",
    "for epoch in range(0, 145405)\n",
    "    model.train(positive)\n",
    "    model.alpha -= 0.002  # decrease the learning rate\n",
    "    model.min_alpha = model.alpha  # fix the learning rate, no decay\"\"\""
   ]
  }
 ],
 "metadata": {
  "kernelspec": {
   "display_name": "Python 3",
   "language": "python",
   "name": "python3"
  },
  "language_info": {
   "codemirror_mode": {
    "name": "ipython",
    "version": 3
   },
   "file_extension": ".py",
   "mimetype": "text/x-python",
   "name": "python",
   "nbconvert_exporter": "python",
   "pygments_lexer": "ipython3",
   "version": "3.6.4"
  }
 },
 "nbformat": 4,
 "nbformat_minor": 2
}
